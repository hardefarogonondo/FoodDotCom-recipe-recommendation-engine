{
 "cells": [
  {
   "attachments": {},
   "cell_type": "markdown",
   "id": "20203c0f",
   "metadata": {},
   "source": [
    "# I. Project Team Members"
   ]
  },
  {
   "attachments": {},
   "cell_type": "markdown",
   "id": "0aa3d7f4",
   "metadata": {},
   "source": [
    "| Prepared by | Email | Prepared for |\n",
    "| :-: | :-: | :-: |\n",
    "| **_Your Name_** | _Your Email_ | **_Project Name_** |"
   ]
  },
  {
   "attachments": {},
   "cell_type": "markdown",
   "id": "b05cd469",
   "metadata": {},
   "source": [
    "# II. Notebook Target Definition"
   ]
  },
  {
   "attachments": {},
   "cell_type": "markdown",
   "id": "47bae1d2",
   "metadata": {},
   "source": [
    "_Insert Text Here_"
   ]
  },
  {
   "attachments": {},
   "cell_type": "markdown",
   "id": "3213f42d",
   "metadata": {},
   "source": [
    "# III. Notebook Setup"
   ]
  },
  {
   "attachments": {},
   "cell_type": "markdown",
   "id": "bb5c3810",
   "metadata": {},
   "source": [
    "## III.A. Import Libraries"
   ]
  },
  {
   "cell_type": "code",
   "execution_count": 1,
   "id": "ac84c896",
   "metadata": {},
   "outputs": [],
   "source": [
    "from sklearn.model_selection import train_test_split\n",
    "import matplotlib.pyplot as plt\n",
    "import numpy as np\n",
    "import pandas as pd\n",
    "import pickle\n",
    "import seaborn as sns\n",
    "\n",
    "pd.set_option('display.max_columns', None)\n",
    "pd.set_option('display.max_rows', None)"
   ]
  },
  {
   "attachments": {},
   "cell_type": "markdown",
   "id": "7291e85b",
   "metadata": {},
   "source": [
    "## III.B. Import Data"
   ]
  },
  {
   "cell_type": "code",
   "execution_count": 2,
   "id": "2f425995",
   "metadata": {},
   "outputs": [],
   "source": [
    "df = pd.read_pickle('../../../data/processed/df.pkl')"
   ]
  },
  {
   "cell_type": "code",
   "execution_count": 3,
   "id": "ea76cb7b",
   "metadata": {},
   "outputs": [
    {
     "data": {
      "text/html": [
       "<div>\n",
       "<style scoped>\n",
       "    .dataframe tbody tr th:only-of-type {\n",
       "        vertical-align: middle;\n",
       "    }\n",
       "\n",
       "    .dataframe tbody tr th {\n",
       "        vertical-align: top;\n",
       "    }\n",
       "\n",
       "    .dataframe thead th {\n",
       "        text-align: right;\n",
       "    }\n",
       "</style>\n",
       "<table border=\"1\" class=\"dataframe\">\n",
       "  <thead>\n",
       "    <tr style=\"text-align: right;\">\n",
       "      <th></th>\n",
       "      <th>user_id</th>\n",
       "      <th>recipe_id</th>\n",
       "      <th>date</th>\n",
       "      <th>rating</th>\n",
       "      <th>review</th>\n",
       "      <th>name</th>\n",
       "      <th>minutes</th>\n",
       "      <th>contributor_id</th>\n",
       "      <th>submitted</th>\n",
       "      <th>tags</th>\n",
       "      <th>nutrition</th>\n",
       "      <th>n_steps</th>\n",
       "      <th>steps</th>\n",
       "      <th>description</th>\n",
       "      <th>ingredients</th>\n",
       "      <th>n_ingredients</th>\n",
       "    </tr>\n",
       "  </thead>\n",
       "  <tbody>\n",
       "    <tr>\n",
       "      <th>0</th>\n",
       "      <td>38094</td>\n",
       "      <td>40893</td>\n",
       "      <td>2003-02-17</td>\n",
       "      <td>4</td>\n",
       "      <td>Great with a salad. Cooked on top of stove for...</td>\n",
       "      <td>white bean   green chile pepper soup</td>\n",
       "      <td>495</td>\n",
       "      <td>1533</td>\n",
       "      <td>2002-09-21</td>\n",
       "      <td>['weeknight', 'time-to-make', 'course', 'main-...</td>\n",
       "      <td>[204.8, 5.0, 9.0, 26.0, 24.0, 2.0, 10.0]</td>\n",
       "      <td>4</td>\n",
       "      <td>['combine beans , onion , chilies , 1 / 2 teas...</td>\n",
       "      <td>easy soup for the crockpot.</td>\n",
       "      <td>['great northern beans', 'yellow onion', 'dice...</td>\n",
       "      <td>9</td>\n",
       "    </tr>\n",
       "    <tr>\n",
       "      <th>1</th>\n",
       "      <td>1293707</td>\n",
       "      <td>40893</td>\n",
       "      <td>2011-12-21</td>\n",
       "      <td>5</td>\n",
       "      <td>So simple, so delicious! Great for chilly fall...</td>\n",
       "      <td>white bean   green chile pepper soup</td>\n",
       "      <td>495</td>\n",
       "      <td>1533</td>\n",
       "      <td>2002-09-21</td>\n",
       "      <td>['weeknight', 'time-to-make', 'course', 'main-...</td>\n",
       "      <td>[204.8, 5.0, 9.0, 26.0, 24.0, 2.0, 10.0]</td>\n",
       "      <td>4</td>\n",
       "      <td>['combine beans , onion , chilies , 1 / 2 teas...</td>\n",
       "      <td>easy soup for the crockpot.</td>\n",
       "      <td>['great northern beans', 'yellow onion', 'dice...</td>\n",
       "      <td>9</td>\n",
       "    </tr>\n",
       "    <tr>\n",
       "      <th>3</th>\n",
       "      <td>126440</td>\n",
       "      <td>85009</td>\n",
       "      <td>2010-02-27</td>\n",
       "      <td>5</td>\n",
       "      <td>I made the Mexican topping and took it to bunk...</td>\n",
       "      <td>baked potato toppings</td>\n",
       "      <td>10</td>\n",
       "      <td>64342</td>\n",
       "      <td>2004-02-25</td>\n",
       "      <td>['15-minutes-or-less', 'time-to-make', 'course...</td>\n",
       "      <td>[2786.2, 342.0, 134.0, 290.0, 161.0, 301.0, 42.0]</td>\n",
       "      <td>3</td>\n",
       "      <td>['pick whichever topping you want to use and c...</td>\n",
       "      <td>these toppings sure makes a nice change from p...</td>\n",
       "      <td>['mayonnaise', 'salsa', 'cheddar cheese', 'ref...</td>\n",
       "      <td>13</td>\n",
       "    </tr>\n",
       "    <tr>\n",
       "      <th>4</th>\n",
       "      <td>57222</td>\n",
       "      <td>85009</td>\n",
       "      <td>2011-10-01</td>\n",
       "      <td>5</td>\n",
       "      <td>Made the cheddar bacon topping, adding a sprin...</td>\n",
       "      <td>baked potato toppings</td>\n",
       "      <td>10</td>\n",
       "      <td>64342</td>\n",
       "      <td>2004-02-25</td>\n",
       "      <td>['15-minutes-or-less', 'time-to-make', 'course...</td>\n",
       "      <td>[2786.2, 342.0, 134.0, 290.0, 161.0, 301.0, 42.0]</td>\n",
       "      <td>3</td>\n",
       "      <td>['pick whichever topping you want to use and c...</td>\n",
       "      <td>these toppings sure makes a nice change from p...</td>\n",
       "      <td>['mayonnaise', 'salsa', 'cheddar cheese', 'ref...</td>\n",
       "      <td>13</td>\n",
       "    </tr>\n",
       "    <tr>\n",
       "      <th>5</th>\n",
       "      <td>52282</td>\n",
       "      <td>120345</td>\n",
       "      <td>2005-05-21</td>\n",
       "      <td>4</td>\n",
       "      <td>very very sweet. after i waited the 2 days i b...</td>\n",
       "      <td>sugared raspberries</td>\n",
       "      <td>10</td>\n",
       "      <td>37449</td>\n",
       "      <td>2005-05-02</td>\n",
       "      <td>['15-minutes-or-less', 'time-to-make', 'course...</td>\n",
       "      <td>[838.0, 1.0, 820.0, 0.0, 2.0, 0.0, 71.0]</td>\n",
       "      <td>6</td>\n",
       "      <td>['carefully pick over the berries , removing l...</td>\n",
       "      <td>here's an old method for preserving fruit with...</td>\n",
       "      <td>['raspberries', 'granulated sugar']</td>\n",
       "      <td>2</td>\n",
       "    </tr>\n",
       "  </tbody>\n",
       "</table>\n",
       "</div>"
      ],
      "text/plain": [
       "   user_id recipe_id       date  rating  \\\n",
       "0    38094     40893 2003-02-17       4   \n",
       "1  1293707     40893 2011-12-21       5   \n",
       "3   126440     85009 2010-02-27       5   \n",
       "4    57222     85009 2011-10-01       5   \n",
       "5    52282    120345 2005-05-21       4   \n",
       "\n",
       "                                              review  \\\n",
       "0  Great with a salad. Cooked on top of stove for...   \n",
       "1  So simple, so delicious! Great for chilly fall...   \n",
       "3  I made the Mexican topping and took it to bunk...   \n",
       "4  Made the cheddar bacon topping, adding a sprin...   \n",
       "5  very very sweet. after i waited the 2 days i b...   \n",
       "\n",
       "                                   name  minutes contributor_id  submitted  \\\n",
       "0  white bean   green chile pepper soup      495           1533 2002-09-21   \n",
       "1  white bean   green chile pepper soup      495           1533 2002-09-21   \n",
       "3                 baked potato toppings       10          64342 2004-02-25   \n",
       "4                 baked potato toppings       10          64342 2004-02-25   \n",
       "5                   sugared raspberries       10          37449 2005-05-02   \n",
       "\n",
       "                                                tags  \\\n",
       "0  ['weeknight', 'time-to-make', 'course', 'main-...   \n",
       "1  ['weeknight', 'time-to-make', 'course', 'main-...   \n",
       "3  ['15-minutes-or-less', 'time-to-make', 'course...   \n",
       "4  ['15-minutes-or-less', 'time-to-make', 'course...   \n",
       "5  ['15-minutes-or-less', 'time-to-make', 'course...   \n",
       "\n",
       "                                           nutrition  n_steps  \\\n",
       "0           [204.8, 5.0, 9.0, 26.0, 24.0, 2.0, 10.0]        4   \n",
       "1           [204.8, 5.0, 9.0, 26.0, 24.0, 2.0, 10.0]        4   \n",
       "3  [2786.2, 342.0, 134.0, 290.0, 161.0, 301.0, 42.0]        3   \n",
       "4  [2786.2, 342.0, 134.0, 290.0, 161.0, 301.0, 42.0]        3   \n",
       "5           [838.0, 1.0, 820.0, 0.0, 2.0, 0.0, 71.0]        6   \n",
       "\n",
       "                                               steps  \\\n",
       "0  ['combine beans , onion , chilies , 1 / 2 teas...   \n",
       "1  ['combine beans , onion , chilies , 1 / 2 teas...   \n",
       "3  ['pick whichever topping you want to use and c...   \n",
       "4  ['pick whichever topping you want to use and c...   \n",
       "5  ['carefully pick over the berries , removing l...   \n",
       "\n",
       "                                         description  \\\n",
       "0                        easy soup for the crockpot.   \n",
       "1                        easy soup for the crockpot.   \n",
       "3  these toppings sure makes a nice change from p...   \n",
       "4  these toppings sure makes a nice change from p...   \n",
       "5  here's an old method for preserving fruit with...   \n",
       "\n",
       "                                         ingredients  n_ingredients  \n",
       "0  ['great northern beans', 'yellow onion', 'dice...              9  \n",
       "1  ['great northern beans', 'yellow onion', 'dice...              9  \n",
       "3  ['mayonnaise', 'salsa', 'cheddar cheese', 'ref...             13  \n",
       "4  ['mayonnaise', 'salsa', 'cheddar cheese', 'ref...             13  \n",
       "5                ['raspberries', 'granulated sugar']              2  "
      ]
     },
     "execution_count": 3,
     "metadata": {},
     "output_type": "execute_result"
    }
   ],
   "source": [
    "df.head()"
   ]
  },
  {
   "attachments": {},
   "cell_type": "markdown",
   "id": "f59e32c9",
   "metadata": {},
   "source": [
    "# IV. Exploratory Data Analysis"
   ]
  },
  {
   "attachments": {},
   "cell_type": "markdown",
   "id": "db0a5756",
   "metadata": {},
   "source": [
    "## IV.A. Data Shape Inspection"
   ]
  },
  {
   "cell_type": "code",
   "execution_count": 4,
   "id": "aad7798b",
   "metadata": {},
   "outputs": [
    {
     "data": {
      "text/plain": [
       "(1108856, 16)"
      ]
     },
     "execution_count": 4,
     "metadata": {},
     "output_type": "execute_result"
    }
   ],
   "source": [
    "df.shape"
   ]
  },
  {
   "attachments": {},
   "cell_type": "markdown",
   "id": "3389b1bf",
   "metadata": {},
   "source": [
    "## IV.B. Data Information Inspection"
   ]
  },
  {
   "cell_type": "code",
   "execution_count": 5,
   "id": "c6d7319a",
   "metadata": {},
   "outputs": [
    {
     "name": "stdout",
     "output_type": "stream",
     "text": [
      "<class 'pandas.core.frame.DataFrame'>\n",
      "Index: 1108856 entries, 0 to 1132366\n",
      "Data columns (total 16 columns):\n",
      " #   Column          Non-Null Count    Dtype         \n",
      "---  ------          --------------    -----         \n",
      " 0   user_id         1108856 non-null  object        \n",
      " 1   recipe_id       1108856 non-null  object        \n",
      " 2   date            1108856 non-null  datetime64[ns]\n",
      " 3   rating          1108856 non-null  int64         \n",
      " 4   review          1108688 non-null  object        \n",
      " 5   name            1108856 non-null  object        \n",
      " 6   minutes         1108856 non-null  int64         \n",
      " 7   contributor_id  1108856 non-null  object        \n",
      " 8   submitted       1108856 non-null  datetime64[ns]\n",
      " 9   tags            1108856 non-null  object        \n",
      " 10  nutrition       1108856 non-null  object        \n",
      " 11  n_steps         1108856 non-null  int64         \n",
      " 12  steps           1108856 non-null  object        \n",
      " 13  description     1108856 non-null  object        \n",
      " 14  ingredients     1108856 non-null  object        \n",
      " 15  n_ingredients   1108856 non-null  int64         \n",
      "dtypes: datetime64[ns](2), int64(4), object(10)\n",
      "memory usage: 143.8+ MB\n"
     ]
    }
   ],
   "source": [
    "df.info()"
   ]
  },
  {
   "attachments": {},
   "cell_type": "markdown",
   "id": "d050ddd4",
   "metadata": {},
   "source": [
    "## IV.C. Missing Values Inspection"
   ]
  },
  {
   "cell_type": "code",
   "execution_count": 6,
   "id": "1f95221a",
   "metadata": {},
   "outputs": [
    {
     "data": {
      "text/html": [
       "<div>\n",
       "<style scoped>\n",
       "    .dataframe tbody tr th:only-of-type {\n",
       "        vertical-align: middle;\n",
       "    }\n",
       "\n",
       "    .dataframe tbody tr th {\n",
       "        vertical-align: top;\n",
       "    }\n",
       "\n",
       "    .dataframe thead th {\n",
       "        text-align: right;\n",
       "    }\n",
       "</style>\n",
       "<table border=\"1\" class=\"dataframe\">\n",
       "  <thead>\n",
       "    <tr style=\"text-align: right;\">\n",
       "      <th></th>\n",
       "      <th>variables</th>\n",
       "      <th>missing_percentage</th>\n",
       "    </tr>\n",
       "  </thead>\n",
       "  <tbody>\n",
       "    <tr>\n",
       "      <th>0</th>\n",
       "      <td>user_id</td>\n",
       "      <td>0.000000</td>\n",
       "    </tr>\n",
       "    <tr>\n",
       "      <th>1</th>\n",
       "      <td>recipe_id</td>\n",
       "      <td>0.000000</td>\n",
       "    </tr>\n",
       "    <tr>\n",
       "      <th>2</th>\n",
       "      <td>date</td>\n",
       "      <td>0.000000</td>\n",
       "    </tr>\n",
       "    <tr>\n",
       "      <th>3</th>\n",
       "      <td>rating</td>\n",
       "      <td>0.000000</td>\n",
       "    </tr>\n",
       "    <tr>\n",
       "      <th>4</th>\n",
       "      <td>name</td>\n",
       "      <td>0.000000</td>\n",
       "    </tr>\n",
       "    <tr>\n",
       "      <th>5</th>\n",
       "      <td>minutes</td>\n",
       "      <td>0.000000</td>\n",
       "    </tr>\n",
       "    <tr>\n",
       "      <th>6</th>\n",
       "      <td>contributor_id</td>\n",
       "      <td>0.000000</td>\n",
       "    </tr>\n",
       "    <tr>\n",
       "      <th>7</th>\n",
       "      <td>submitted</td>\n",
       "      <td>0.000000</td>\n",
       "    </tr>\n",
       "    <tr>\n",
       "      <th>8</th>\n",
       "      <td>tags</td>\n",
       "      <td>0.000000</td>\n",
       "    </tr>\n",
       "    <tr>\n",
       "      <th>9</th>\n",
       "      <td>nutrition</td>\n",
       "      <td>0.000000</td>\n",
       "    </tr>\n",
       "    <tr>\n",
       "      <th>10</th>\n",
       "      <td>n_steps</td>\n",
       "      <td>0.000000</td>\n",
       "    </tr>\n",
       "    <tr>\n",
       "      <th>11</th>\n",
       "      <td>steps</td>\n",
       "      <td>0.000000</td>\n",
       "    </tr>\n",
       "    <tr>\n",
       "      <th>12</th>\n",
       "      <td>description</td>\n",
       "      <td>0.000000</td>\n",
       "    </tr>\n",
       "    <tr>\n",
       "      <th>13</th>\n",
       "      <td>ingredients</td>\n",
       "      <td>0.000000</td>\n",
       "    </tr>\n",
       "    <tr>\n",
       "      <th>14</th>\n",
       "      <td>n_ingredients</td>\n",
       "      <td>0.000000</td>\n",
       "    </tr>\n",
       "    <tr>\n",
       "      <th>15</th>\n",
       "      <td>review</td>\n",
       "      <td>0.015151</td>\n",
       "    </tr>\n",
       "  </tbody>\n",
       "</table>\n",
       "</div>"
      ],
      "text/plain": [
       "         variables  missing_percentage\n",
       "0          user_id            0.000000\n",
       "1        recipe_id            0.000000\n",
       "2             date            0.000000\n",
       "3           rating            0.000000\n",
       "4             name            0.000000\n",
       "5          minutes            0.000000\n",
       "6   contributor_id            0.000000\n",
       "7        submitted            0.000000\n",
       "8             tags            0.000000\n",
       "9        nutrition            0.000000\n",
       "10         n_steps            0.000000\n",
       "11           steps            0.000000\n",
       "12     description            0.000000\n",
       "13     ingredients            0.000000\n",
       "14   n_ingredients            0.000000\n",
       "15          review            0.015151"
      ]
     },
     "execution_count": 6,
     "metadata": {},
     "output_type": "execute_result"
    }
   ],
   "source": [
    "df_missing = pd.DataFrame(\n",
    "    df.isnull().sum().sort_values() / len(df) * 100).reset_index()\n",
    "df_missing.columns = [\"variables\", \"missing_percentage\"]\n",
    "df_missing"
   ]
  },
  {
   "cell_type": "code",
   "execution_count": 7,
   "id": "8fc9bffd",
   "metadata": {},
   "outputs": [
    {
     "data": {
      "image/png": "[encoded data removed]",
      "text/plain": [
       "<Figure size 640x480 with 1 Axes>"
      ]
     },
     "metadata": {},
     "output_type": "display_data"
    }
   ],
   "source": [
    "sns.barplot(data=df_missing,\n",
    "            x=\"variables\",\n",
    "            y=\"missing_percentage\",\n",
    "            palette='Blues')\n",
    "plt.title(\"X Null Values Proportion\")\n",
    "plt.xticks(rotation='vertical')\n",
    "plt.show()"
   ]
  },
  {
   "attachments": {},
   "cell_type": "markdown",
   "id": "330ea738",
   "metadata": {},
   "source": [
    "## IV.D. Duplicated Values Inspection"
   ]
  },
  {
   "cell_type": "code",
   "execution_count": 8,
   "id": "45d41976",
   "metadata": {},
   "outputs": [
    {
     "data": {
      "text/plain": [
       "(0, 16)"
      ]
     },
     "execution_count": 8,
     "metadata": {},
     "output_type": "execute_result"
    }
   ],
   "source": [
    "df_duplicated = df[df.duplicated(keep=False)]\n",
    "df_duplicated.shape"
   ]
  },
  {
   "cell_type": "code",
   "execution_count": 9,
   "id": "96e8bc3d",
   "metadata": {},
   "outputs": [
    {
     "data": {
      "text/html": [
       "<div>\n",
       "<style scoped>\n",
       "    .dataframe tbody tr th:only-of-type {\n",
       "        vertical-align: middle;\n",
       "    }\n",
       "\n",
       "    .dataframe tbody tr th {\n",
       "        vertical-align: top;\n",
       "    }\n",
       "\n",
       "    .dataframe thead th {\n",
       "        text-align: right;\n",
       "    }\n",
       "</style>\n",
       "<table border=\"1\" class=\"dataframe\">\n",
       "  <thead>\n",
       "    <tr style=\"text-align: right;\">\n",
       "      <th></th>\n",
       "      <th>user_id</th>\n",
       "      <th>recipe_id</th>\n",
       "      <th>date</th>\n",
       "      <th>rating</th>\n",
       "      <th>review</th>\n",
       "      <th>name</th>\n",
       "      <th>minutes</th>\n",
       "      <th>contributor_id</th>\n",
       "      <th>submitted</th>\n",
       "      <th>tags</th>\n",
       "      <th>nutrition</th>\n",
       "      <th>n_steps</th>\n",
       "      <th>steps</th>\n",
       "      <th>description</th>\n",
       "      <th>ingredients</th>\n",
       "      <th>n_ingredients</th>\n",
       "    </tr>\n",
       "  </thead>\n",
       "  <tbody>\n",
       "  </tbody>\n",
       "</table>\n",
       "</div>"
      ],
      "text/plain": [
       "Empty DataFrame\n",
       "Columns: [user_id, recipe_id, date, rating, review, name, minutes, contributor_id, submitted, tags, nutrition, n_steps, steps, description, ingredients, n_ingredients]\n",
       "Index: []"
      ]
     },
     "execution_count": 9,
     "metadata": {},
     "output_type": "execute_result"
    }
   ],
   "source": [
    "df_duplicated"
   ]
  },
  {
   "attachments": {},
   "cell_type": "markdown",
   "id": "60c64b24",
   "metadata": {},
   "source": [
    "## IV.E. Data Visualization"
   ]
  },
  {
   "attachments": {},
   "cell_type": "markdown",
   "id": "3ff6c979",
   "metadata": {},
   "source": [
    "### IV.E.1. Target Label Proportion"
   ]
  },
  {
   "cell_type": "code",
   "execution_count": null,
   "id": "1cbce84c",
   "metadata": {},
   "outputs": [],
   "source": [
    "# Barplot\n",
    "plt.title(\"Target Label Proportion\")\n",
    "y_proportion = sns.countplot(data=y, x=y[\"target_label\"], palette='Set2')\n",
    "y_proportion.bar_label(y_proportion.containers[0])\n",
    "plt.show()"
   ]
  },
  {
   "cell_type": "code",
   "execution_count": null,
   "id": "b15cb341",
   "metadata": {},
   "outputs": [],
   "source": [
    "# Pie Chart\n",
    "plt.title(\"Target Label Proportion\")\n",
    "plt.pie(x=y.value_counts(),\n",
    "        labels=y[\"target_label\"].value_counts(),\n",
    "        colors=sns.color_palette('Set3'),\n",
    "        autopct='%1.1f%%')\n",
    "plt.show()"
   ]
  },
  {
   "attachments": {},
   "cell_type": "markdown",
   "id": "e16812eb",
   "metadata": {},
   "source": [
    "### IV.E.2. _Column Name_ Distribution"
   ]
  },
  {
   "cell_type": "code",
   "execution_count": null,
   "id": "9ca3d111",
   "metadata": {},
   "outputs": [],
   "source": [
    "plt.title(\"Column Name Distribution\")\n",
    "column_name_proportion = sns.countplot(data=X, x=\"column_name\", palette='Set1')\n",
    "column_name_proportion.bar_label(column_name_proportion.containers[0])\n",
    "plt.show()"
   ]
  },
  {
   "attachments": {},
   "cell_type": "markdown",
   "id": "5887abda",
   "metadata": {},
   "source": [
    "## IV.F. Statistical Analysis"
   ]
  },
  {
   "attachments": {},
   "cell_type": "markdown",
   "id": "1bbeb7bf",
   "metadata": {},
   "source": [
    "### IV.F.1. Statistical Description"
   ]
  },
  {
   "cell_type": "code",
   "execution_count": null,
   "id": "25e97f3a",
   "metadata": {},
   "outputs": [],
   "source": [
    "X.describe()"
   ]
  },
  {
   "attachments": {},
   "cell_type": "markdown",
   "id": "5700c079",
   "metadata": {},
   "source": [
    "### IV.F.2. Skewness Analysis"
   ]
  },
  {
   "cell_type": "code",
   "execution_count": null,
   "id": "c406abea",
   "metadata": {},
   "outputs": [],
   "source": [
    "numeric_columns = X.select_dtypes(include=[np.number]).columns\n",
    "X_skewness = X[numeric_columns].skew()\n",
    "X_skewness = pd.DataFrame(\n",
    "    {\"variables\": X_skewness.index, \"skewness\": X_skewness.values})"
   ]
  },
  {
   "cell_type": "code",
   "execution_count": null,
   "id": "49f548a5",
   "metadata": {},
   "outputs": [],
   "source": [
    "plt.title(\"Skewness Analysis\")\n",
    "plt.bar(X_skewness[\"variables\"], X_skewness[\"skewness\"])\n",
    "plt.xticks(rotation=45, ha='right')\n",
    "plt.xlabel(\"Variables\")\n",
    "plt.ylabel(\"Skewness\")\n",
    "plt.show()"
   ]
  },
  {
   "attachments": {},
   "cell_type": "markdown",
   "id": "0e2f24b5",
   "metadata": {},
   "source": [
    "## IV.G. Correlation Matrix"
   ]
  },
  {
   "cell_type": "code",
   "execution_count": null,
   "id": "98170eb8",
   "metadata": {},
   "outputs": [],
   "source": [
    "X.corr()"
   ]
  },
  {
   "cell_type": "code",
   "execution_count": null,
   "id": "f75f2f35",
   "metadata": {},
   "outputs": [],
   "source": [
    "sns.heatmap(data=X.corr())"
   ]
  },
  {
   "attachments": {},
   "cell_type": "markdown",
   "id": "4db39544",
   "metadata": {},
   "source": [
    "# V. Preprocessing"
   ]
  },
  {
   "attachments": {},
   "cell_type": "markdown",
   "id": "660959cb",
   "metadata": {},
   "source": [
    "## V.A. Columns Reorder"
   ]
  },
  {
   "cell_type": "code",
   "execution_count": null,
   "id": "630e99ec",
   "metadata": {},
   "outputs": [],
   "source": [
    "custom_order = [\"column_0\", \"column_1\", \"column_2\"]"
   ]
  },
  {
   "cell_type": "code",
   "execution_count": null,
   "id": "13627417",
   "metadata": {},
   "outputs": [],
   "source": [
    "X = X.reindex(columns=custom_order)\n",
    "X.shape"
   ]
  },
  {
   "cell_type": "code",
   "execution_count": null,
   "id": "93e0afa2",
   "metadata": {},
   "outputs": [],
   "source": [
    "X.head()"
   ]
  },
  {
   "attachments": {},
   "cell_type": "markdown",
   "id": "6cbc85d6",
   "metadata": {},
   "source": [
    "## V.B. Specific Preprocessing"
   ]
  },
  {
   "cell_type": "code",
   "execution_count": null,
   "id": "55725fe0",
   "metadata": {},
   "outputs": [],
   "source": []
  },
  {
   "attachments": {},
   "cell_type": "markdown",
   "id": "2fecc1df",
   "metadata": {},
   "source": [
    "## V.D. Data Splitting"
   ]
  },
  {
   "cell_type": "code",
   "execution_count": null,
   "id": "e55d1c55",
   "metadata": {},
   "outputs": [],
   "source": [
    "X_train, X_test, y_train, y_test = train_test_split(\n",
    "    X, y, test_size=0.3, random_state=777)"
   ]
  },
  {
   "cell_type": "code",
   "execution_count": null,
   "id": "f86b7cba",
   "metadata": {},
   "outputs": [],
   "source": [
    "X_train.shape, X_test.shape"
   ]
  },
  {
   "cell_type": "code",
   "execution_count": null,
   "id": "daf718df",
   "metadata": {},
   "outputs": [],
   "source": [
    "y_train.shape, y_test.shape"
   ]
  },
  {
   "attachments": {},
   "cell_type": "markdown",
   "id": "db69461a",
   "metadata": {},
   "source": [
    "## V.E. Export Data"
   ]
  },
  {
   "cell_type": "code",
   "execution_count": null,
   "id": "c0804fda",
   "metadata": {},
   "outputs": [],
   "source": [
    "X_train.to_pickle('../../data/processed/X_train.pkl')\n",
    "X_test.to_pickle('../../data/processed/X_test.pkl')\n",
    "y_train.to_pickle('../../data/processed/y_train.pkl')\n",
    "y_test.to_pickle('../../data/processed/y_test.pkl')"
   ]
  }
 ],
 "metadata": {
  "kernelspec": {
   "display_name": "Python 3 (ipykernel)",
   "language": "python",
   "name": "python3"
  },
  "language_info": {
   "codemirror_mode": {
    "name": "ipython",
    "version": 3
   },
   "file_extension": ".py",
   "mimetype": "text/x-python",
   "name": "python",
   "nbconvert_exporter": "python",
   "pygments_lexer": "ipython3",
   "version": "3.11.3"
  }
 },
 "nbformat": 4,
 "nbformat_minor": 5
}
