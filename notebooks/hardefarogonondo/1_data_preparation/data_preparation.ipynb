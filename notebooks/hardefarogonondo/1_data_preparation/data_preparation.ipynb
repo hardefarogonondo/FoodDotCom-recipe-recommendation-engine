{
 "cells": [
  {
   "attachments": {},
   "cell_type": "markdown",
   "id": "20203c0f",
   "metadata": {},
   "source": [
    "# I. Project Team Members"
   ]
  },
  {
   "attachments": {},
   "cell_type": "markdown",
   "id": "0aa3d7f4",
   "metadata": {},
   "source": [
    "| Prepared by | Email | Prepared for |\n",
    "| :-: | :-: | :-: |\n",
    "| **_Your Name_** | _Your Email_ | **_Project Name_** |"
   ]
  },
  {
   "attachments": {},
   "cell_type": "markdown",
   "id": "b05cd469",
   "metadata": {},
   "source": [
    "# II. Notebook Target Definition"
   ]
  },
  {
   "attachments": {},
   "cell_type": "markdown",
   "id": "47bae1d2",
   "metadata": {},
   "source": [
    "_Insert Text Here_"
   ]
  },
  {
   "attachments": {},
   "cell_type": "markdown",
   "id": "3213f42d",
   "metadata": {},
   "source": [
    "# III. Notebook Setup"
   ]
  },
  {
   "attachments": {},
   "cell_type": "markdown",
   "id": "bb5c3810",
   "metadata": {},
   "source": [
    "## III.A. Import Libraries"
   ]
  },
  {
   "cell_type": "code",
   "execution_count": null,
   "id": "ac84c896",
   "metadata": {},
   "outputs": [],
   "source": [
    "import pandas as pd\n",
    "import pickle\n",
    "\n",
    "pd.set_option('display.max_columns', None)\n",
    "pd.set_option('display.max_rows', None)"
   ]
  },
  {
   "attachments": {},
   "cell_type": "markdown",
   "id": "7291e85b",
   "metadata": {},
   "source": [
    "## III.B. Import Data"
   ]
  },
  {
   "cell_type": "code",
   "execution_count": null,
   "id": "2f425995",
   "metadata": {},
   "outputs": [],
   "source": [
    "df = pd.read_csv('../../data/raw/data.csv')\n",
    "df.head()"
   ]
  },
  {
   "attachments": {},
   "cell_type": "markdown",
   "id": "f59e32c9",
   "metadata": {},
   "source": [
    "# IV. Data Preparation"
   ]
  },
  {
   "attachments": {},
   "cell_type": "markdown",
   "id": "db0a5756",
   "metadata": {},
   "source": [
    "## IV.A. Data Shape Inspection"
   ]
  },
  {
   "cell_type": "code",
   "execution_count": null,
   "id": "aad7798b",
   "metadata": {},
   "outputs": [],
   "source": [
    "df.shape"
   ]
  },
  {
   "attachments": {},
   "cell_type": "markdown",
   "id": "3389b1bf",
   "metadata": {},
   "source": [
    "## IV.B. Data Information Inspection"
   ]
  },
  {
   "cell_type": "code",
   "execution_count": null,
   "id": "c6d7319a",
   "metadata": {},
   "outputs": [],
   "source": [
    "df.info()"
   ]
  },
  {
   "attachments": {},
   "cell_type": "markdown",
   "id": "c13bde7b",
   "metadata": {},
   "source": [
    "## IV.C. Data Aggregation"
   ]
  },
  {
   "cell_type": "code",
   "execution_count": null,
   "id": "8159dd81",
   "metadata": {},
   "outputs": [],
   "source": [
    "# Aggregating dataframes with the same column names\n",
    "df_aggregated = pd.concat([df, df1])\n",
    "\n",
    "# Aggregating dataframes with different column names\n",
    "df_aggregated = pd.concat([df, df1], axis=1)"
   ]
  },
  {
   "cell_type": "code",
   "execution_count": null,
   "id": "86827f1b",
   "metadata": {},
   "outputs": [],
   "source": [
    "df_aggregated.shape"
   ]
  },
  {
   "cell_type": "code",
   "execution_count": null,
   "id": "35bb6781",
   "metadata": {},
   "outputs": [],
   "source": [
    "df_aggregated.head()"
   ]
  },
  {
   "attachments": {},
   "cell_type": "markdown",
   "id": "e9ce06ea",
   "metadata": {},
   "source": [
    "## IV.D. Data Definition"
   ]
  },
  {
   "attachments": {},
   "cell_type": "markdown",
   "id": "50d58989",
   "metadata": {},
   "source": [
    "| Variables | Columns Definition |\n",
    "| :-: | :-: |\n",
    "| _column_0_ | _Column Definition_ |\n",
    "| _column_1_ | _Column Definition_ |\n",
    "| _column_2_ | _Column Definition_ |"
   ]
  },
  {
   "attachments": {},
   "cell_type": "markdown",
   "id": "3a23e914",
   "metadata": {},
   "source": [
    "## IV.E. Data Validation"
   ]
  },
  {
   "attachments": {},
   "cell_type": "markdown",
   "id": "7157f471",
   "metadata": {},
   "source": [
    "| Variables | Data Types |\n",
    "| :-: | :-: |\n",
    "| _column_0_ | _Data Type_ |\n",
    "| _column_1_ | _Data Type_ |\n",
    "| _column_2_ | _Data Type_ |"
   ]
  },
  {
   "cell_type": "code",
   "execution_count": null,
   "id": "48c76c4e",
   "metadata": {},
   "outputs": [],
   "source": [
    "# Convert to boolean\n",
    "df_aggregated[\"column_name\"] = df_aggregated[\"column_name\"].astype(bool)\n",
    "\n",
    "# Convert to datetime\n",
    "df_aggregated[\"column_name\"] = pd.to_datetime(df_aggregated[\"column_name\"])\n",
    "\n",
    "# Convert to float\n",
    "df_aggregated[\"column_name\"] = df_aggregated[\"column_name\"].astype(float)\n",
    "\n",
    "# Convert to integer\n",
    "df_aggregated[\"column_name\"] = df_aggregated[\"column_name\"].astype(int)\n",
    "\n",
    "# Convert to string\n",
    "df_aggregated[\"column_name\"] = df_aggregated[\"column_name\"].astype(str)"
   ]
  },
  {
   "cell_type": "code",
   "execution_count": null,
   "id": "80a0825e",
   "metadata": {},
   "outputs": [],
   "source": [
    "df_aggregated.head()"
   ]
  },
  {
   "cell_type": "code",
   "execution_count": null,
   "id": "f9d53b00",
   "metadata": {},
   "outputs": [],
   "source": [
    "df_aggregated.info()"
   ]
  },
  {
   "attachments": {},
   "cell_type": "markdown",
   "id": "292fbbf4",
   "metadata": {},
   "source": [
    "## IV.F. Data Segregation"
   ]
  },
  {
   "cell_type": "code",
   "execution_count": null,
   "id": "7e53a3a1",
   "metadata": {},
   "outputs": [],
   "source": [
    "X = df_aggregated.drop(\"label_target\", axis=1)\n",
    "y = df_aggregated[\"label_target\"]\n",
    "X.shape, y.shape"
   ]
  },
  {
   "cell_type": "code",
   "execution_count": null,
   "id": "a57529a4",
   "metadata": {},
   "outputs": [],
   "source": [
    "X.head()"
   ]
  },
  {
   "cell_type": "code",
   "execution_count": null,
   "id": "0e8c7028",
   "metadata": {},
   "outputs": [],
   "source": [
    "y.head()"
   ]
  },
  {
   "attachments": {},
   "cell_type": "markdown",
   "id": "c5c97bd7",
   "metadata": {},
   "source": [
    "## IV.G. Export Data"
   ]
  },
  {
   "cell_type": "code",
   "execution_count": null,
   "id": "42f61b26",
   "metadata": {},
   "outputs": [],
   "source": [
    "X.to_pickle('../../data/processed/X.pkl')\n",
    "y.to_pickle('../../data/processed/y.pkl')"
   ]
  }
 ],
 "metadata": {
  "kernelspec": {
   "display_name": "Python 3 (ipykernel)",
   "language": "python",
   "name": "python3"
  },
  "language_info": {
   "codemirror_mode": {
    "name": "ipython",
    "version": 3
   },
   "file_extension": ".py",
   "mimetype": "text/x-python",
   "name": "python",
   "nbconvert_exporter": "python",
   "pygments_lexer": "ipython3",
   "version": "3.11.3"
  }
 },
 "nbformat": 4,
 "nbformat_minor": 5
}
